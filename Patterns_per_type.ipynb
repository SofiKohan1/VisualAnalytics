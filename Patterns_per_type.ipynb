{
 "cells": [
  {
   "cell_type": "markdown",
   "id": "d667c8db",
   "metadata": {},
   "source": [
    "# Additional graphs and widgets for further analysis of the vahicles patterns"
   ]
  },
  {
   "cell_type": "code",
   "execution_count": 1,
   "id": "6f82914e",
   "metadata": {},
   "outputs": [],
   "source": [
    "import patterns_extra_widgets \n",
    "from patterns_extra_widgets import type_per_moment_15, type_per_moment_16, heatmaps #, scatter1,  scatter2,  scatter3,  scatter4,  scatter5,  scatter6,  scatter7\n",
    "import pandas as pd\n",
    "from ipywidgets import widgets\n",
    "from ipywidgets import GridspecLayout\n"
   ]
  },
  {
   "cell_type": "code",
   "execution_count": 2,
   "id": "5dc452e1",
   "metadata": {},
   "outputs": [],
   "source": [
    "mc1 = pd.read_csv('datasets/MC1Data/Lekagul Sensor Data.csv')"
   ]
  },
  {
   "cell_type": "markdown",
   "id": "c715a428",
   "metadata": {},
   "source": [
    "## Frequency plots showing gates registeres by car types in the year 2015"
   ]
  },
  {
   "cell_type": "code",
   "execution_count": 3,
   "id": "b953b67b",
   "metadata": {},
   "outputs": [
    {
     "data": {
      "application/vnd.jupyter.widget-view+json": {
       "model_id": "3eee7ce9ed2e4fdd94afca1dde1f90ec",
       "version_major": 2,
       "version_minor": 0
      },
      "text/plain": [
       "interactive(children=(Dropdown(description='choose', options=('hour', 'day', 'month'), value='hour'), Output()…"
      ]
     },
     "metadata": {},
     "output_type": "display_data"
    }
   ],
   "source": [
    "select_moment_15 = widgets.interact(type_per_moment_15, choose=['hour','day','month'])"
   ]
  },
  {
   "cell_type": "code",
   "execution_count": 4,
   "id": "95fb34a6",
   "metadata": {},
   "outputs": [
    {
     "data": {
      "application/vnd.jupyter.widget-view+json": {
       "model_id": "7d7e988480f74736922c6a2bf012ec58",
       "version_major": 2,
       "version_minor": 0
      },
      "text/plain": [
       "interactive(children=(Dropdown(description='choose_', options=('hour', 'day', 'month'), value='hour'), Output(…"
      ]
     },
     "metadata": {},
     "output_type": "display_data"
    }
   ],
   "source": [
    "select_moment_16 = widgets.interact(type_per_moment_16, choose_=['hour','day','month'])"
   ]
  },
  {
   "cell_type": "markdown",
   "id": "7adbfde2",
   "metadata": {},
   "source": [
    "## Heatmaps "
   ]
  },
  {
   "cell_type": "code",
   "execution_count": 5,
   "id": "b260e13d",
   "metadata": {},
   "outputs": [
    {
     "data": {
      "application/vnd.jupyter.widget-view+json": {
       "model_id": "e973a15ad1be4174b10df29c163c0618",
       "version_major": 2,
       "version_minor": 0
      },
      "text/plain": [
       "interactive(children=(Dropdown(description='y', options=('car-type', 'hour', 'day'), value='car-type'), Output…"
      ]
     },
     "metadata": {},
     "output_type": "display_data"
    }
   ],
   "source": [
    "select_heatmap = widgets.interact(heatmaps, y=['car-type', 'hour', 'day'])"
   ]
  },
  {
   "cell_type": "code",
   "execution_count": null,
   "id": "e3d69324",
   "metadata": {},
   "outputs": [],
   "source": []
  },
  {
   "cell_type": "code",
   "execution_count": null,
   "id": "a9fd7040",
   "metadata": {},
   "outputs": [],
   "source": []
  }
 ],
 "metadata": {
  "kernelspec": {
   "display_name": "Python 3 (ipykernel)",
   "language": "python",
   "name": "python3"
  },
  "language_info": {
   "codemirror_mode": {
    "name": "ipython",
    "version": 3
   },
   "file_extension": ".py",
   "mimetype": "text/x-python",
   "name": "python",
   "nbconvert_exporter": "python",
   "pygments_lexer": "ipython3",
   "version": "3.9.7"
  }
 },
 "nbformat": 4,
 "nbformat_minor": 5
}
