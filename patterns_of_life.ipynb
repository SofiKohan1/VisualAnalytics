{
 "cells": [
  {
   "cell_type": "markdown",
   "id": "f3b3bb4f",
   "metadata": {},
   "source": [
    "# Task 2:  Visual Analytics\n"
   ]
  },
  {
   "cell_type": "code",
   "execution_count": null,
   "id": "401e2358",
   "metadata": {},
   "outputs": [],
   "source": [
    "import pandas as pd\n",
    "from IPython.display import Image\n",
    "from sklearn.datasets import fetch_openml\n",
    "from sklearn.manifold import TSNE\n",
    "import plotly.express as px\n",
    "import matplotlib.pyplot as plt \n",
    "%matplotlib inline \n",
    "pd.options.mode.chained_assignment = None  # default='warn'\n",
    "import seaborn as sns\n",
    "import numpy as np\n",
    "from ipywidgets import widgets"
   ]
  },
  {
   "cell_type": "markdown",
   "id": "d9d69f23",
   "metadata": {},
   "source": [
    "## Data Exploration"
   ]
  },
  {
   "cell_type": "code",
   "execution_count": null,
   "id": "29df556f",
   "metadata": {},
   "outputs": [],
   "source": [
    "mc1 = pd.read_csv('datasets/MC1Data/Lekagul Sensor Data.csv')"
   ]
  },
  {
   "cell_type": "code",
   "execution_count": null,
   "id": "5e035410",
   "metadata": {},
   "outputs": [],
   "source": [
    "Image(filename='datasets/MC1Data/Lekagul Roadways labeled v2.jpg')"
   ]
  },
  {
   "cell_type": "code",
   "execution_count": null,
   "id": "42c28eb8",
   "metadata": {},
   "outputs": [],
   "source": [
    "mc1.info()"
   ]
  },
  {
   "cell_type": "code",
   "execution_count": null,
   "id": "f34c1920",
   "metadata": {},
   "outputs": [],
   "source": [
    "mc1.dtypes"
   ]
  },
  {
   "cell_type": "code",
   "execution_count": null,
   "id": "ef9f5d47",
   "metadata": {},
   "outputs": [],
   "source": [
    "mc1.head()"
   ]
  },
  {
   "cell_type": "markdown",
   "id": "59119020",
   "metadata": {},
   "source": [
    "## Data pre-processing"
   ]
  },
  {
   "cell_type": "markdown",
   "id": "d3afb5e1",
   "metadata": {},
   "source": [
    "### Data Aggregation"
   ]
  },
  {
   "cell_type": "code",
   "execution_count": null,
   "id": "b831885c",
   "metadata": {},
   "outputs": [],
   "source": [
    "timestamp = mc1['Timestamp']"
   ]
  },
  {
   "cell_type": "code",
   "execution_count": null,
   "id": "c893e983",
   "metadata": {},
   "outputs": [],
   "source": [
    "timestamp[1]"
   ]
  },
  {
   "cell_type": "code",
   "execution_count": null,
   "id": "eb52d038",
   "metadata": {},
   "outputs": [],
   "source": [
    "type(timestamp)"
   ]
  },
  {
   "cell_type": "code",
   "execution_count": null,
   "id": "5dde45de",
   "metadata": {},
   "outputs": [],
   "source": [
    "mc1['datetime'] = pd.to_datetime(mc1['Timestamp'], format=\"%Y-%m-%d %H:%M:%S\")\n",
    "mc1['month'] = mc1['datetime'].dt.month\n",
    "mc1['day'] = mc1['datetime'].dt.day\n",
    "mc1['year'] = mc1['datetime'].dt.year\n",
    "mc1['hour'] = mc1['datetime'].dt.hour\n",
    "mc1['minute'] = mc1['datetime'].dt.minute"
   ]
  },
  {
   "cell_type": "code",
   "execution_count": null,
   "id": "30dd9548",
   "metadata": {},
   "outputs": [],
   "source": [
    "mc1.head()"
   ]
  },
  {
   "cell_type": "code",
   "execution_count": null,
   "id": "72ed3769",
   "metadata": {},
   "outputs": [],
   "source": [
    "mc1['day'].unique()"
   ]
  },
  {
   "cell_type": "code",
   "execution_count": null,
   "id": "af11a3bd",
   "metadata": {},
   "outputs": [],
   "source": [
    "mc1['month'].unique()"
   ]
  },
  {
   "cell_type": "code",
   "execution_count": null,
   "id": "13040ac6",
   "metadata": {},
   "outputs": [],
   "source": [
    "car_grouping = mc1.groupby(['car-type']).size().reset_index(name='count').sort_values(['count'],ascending=False)\n",
    "cars = pd.DataFrame(columns=[\"car-idx\", \"car-type\", \"car-count\"])\n",
    "cars['car-type'] = car_grouping['car-type']\n",
    "cars['car-idx'] = range(len(car_grouping))\n",
    "cars['car-count'] = car_grouping['count']\n",
    "mc1 = pd.merge(mc1,cars ,on='car-type')"
   ]
  },
  {
   "cell_type": "code",
   "execution_count": null,
   "id": "d1c4ab8c",
   "metadata": {},
   "outputs": [],
   "source": [
    "gate_grouping = mc1.groupby(['gate-name']).size().reset_index(name='count')#.sort_values(['count'],ascending=True)\n",
    "gating = pd.DataFrame(columns=[\"gate-idx\", \"gate-name\", \"gate-count\"])\n",
    "gating['gate-name'] = gate_grouping['gate-name']\n",
    "gating['gate-idx'] = range(len(gate_grouping))\n",
    "gating['gate-idx'].astype('float64')\n",
    "gating['gate-count'] = gate_grouping['count']\n",
    "mc1 = pd.merge(mc1,gating ,on='gate-name')"
   ]
  },
  {
   "cell_type": "markdown",
   "id": "4b6d01c2",
   "metadata": {},
   "source": [
    "## Gates \n",
    "\n",
    "idx = 0 = camping0\n",
    "\n",
    "idx = 1 = camping1 \n",
    "\n",
    "idx = 2 = camping2  \n",
    "\n",
    "idx = 3 = camping3\n",
    "\n",
    "idx = 4 = camping4 \n",
    "\n",
    "idx = 5 = camping5 \n",
    "\n",
    "idx = 6 = camping6 \n",
    "\n",
    "idx = 7 = camping7\n",
    "\n",
    "idx = 8 = camping8 \n",
    "\n",
    "idx = 9 = entrance0 \n",
    "\n",
    "idx = 10 = entrance1  \n",
    "\n",
    "idx = 11 = entrance2  \n",
    "\n",
    "idx = 12 = entrance3  \n",
    "\n",
    "idx = 13 = entrance4\n",
    "\n",
    "idx = 14 = gate0 \n",
    "\n",
    "idx = 15 = gate1  \n",
    "\n",
    "idx = 16 = gate2  \n",
    "\n",
    "idx = 17 = gate3\n",
    "\n",
    "idx = 18 = gate4\n",
    "\n",
    "idx = 19 = gate5\n",
    "\n",
    "idx = 20 = gate6\n",
    "\n",
    "idx = 21 = gate7\n",
    "\n",
    "idx = 22 = gate8\n",
    "\n",
    "idx = 23 = general-gate0\t\n",
    "\n",
    "idx = 24 = general-gate1\t \n",
    "\n",
    "idx = 25 = general-gate2\t  \n",
    "\n",
    "idx = 26 = general-gate3\t  \n",
    "\n",
    "idx = 27 = general-gate4\t\n",
    "\n",
    "idx = 28 = general-gate5\t \n",
    "\n",
    "idx = 29 = general-gate6\t  \n",
    "\n",
    "idx = 30 = general-gate7\t \n",
    "\n",
    "idx = 31 = ranger-base\t  \n",
    "\n",
    "idx = 32 = ranger-stop0\t\n",
    "\n",
    "idx = 33 = ranger-stop1\t  \n",
    "\n",
    "idx = 34 = ranger-stop2\t\n",
    "\n",
    "idx = 35 = ranger-stop3\t\n",
    "\n",
    "idx = 36 = ranger-stop4\t\n",
    "\n",
    "idx = 37 = ranger-stop5\t\n",
    "\n",
    "idx = 38 = ranger-stop6\t \n",
    "\n",
    "idx = 39 = ranger-stop7\t \n"
   ]
  },
  {
   "cell_type": "code",
   "execution_count": null,
   "id": "9fc93f09",
   "metadata": {},
   "outputs": [],
   "source": [
    "id_grouping = mc1.groupby(['car-id']).size().reset_index(name='count')#.sort_values(['count'],ascending=True)\n",
    "car_id = pd.DataFrame(columns=[\"car-id-idxx\", \"car-id\", \"car-id-count\"])\n",
    "car_id['car-id'] = id_grouping['car-id']\n",
    "car_id['car-id-idxx'] = range(len(id_grouping))\n",
    "car_id['car-id-count'] = id_grouping['count']\n",
    "mc1 = pd.merge(mc1, car_id ,on='car-id')"
   ]
  },
  {
   "cell_type": "code",
   "execution_count": null,
   "id": "b2d25ff5",
   "metadata": {},
   "outputs": [],
   "source": [
    "df2015 = mc1['year'] == 2015\n",
    "df2015 = mc1[df2015]\n",
    "df2015.head()"
   ]
  },
  {
   "cell_type": "code",
   "execution_count": null,
   "id": "0cb9f7e0",
   "metadata": {},
   "outputs": [],
   "source": [
    "df2016 = mc1['year'] == 2016\n",
    "df2016 = mc1[df2016]\n",
    "df2016.head()"
   ]
  },
  {
   "cell_type": "markdown",
   "id": "c9a436c5",
   "metadata": {},
   "source": [
    "#### Car Types \n",
    "idx 0 = type 1 = 2 axle car\n",
    "\n",
    "idx 1 = type 2 = 2 axle truck\n",
    "\n",
    "idx 2 = type 3 = 3 axle truck\n",
    "\n",
    "idx 3 = type 2P = 2 axle park vechicles (trucks )\n",
    "\n",
    "idx 4 = type 4 = 4 axle (and above) truck \n",
    "\n",
    "idx 5 = type 5 = 2 axle bus\n",
    "\n",
    "idx 6 = type 6 = 3 axle bus\n"
   ]
  },
  {
   "cell_type": "code",
   "execution_count": null,
   "id": "c3cb6318",
   "metadata": {},
   "outputs": [],
   "source": [
    "type_1 = mc1['car-type'] == '1'\n",
    "type_2 = mc1['car-type'] == '2'\n",
    "type_3 = mc1['car-type'] == '3'\n",
    "type_4 = mc1['car-type'] == '4'\n",
    "type_5 = mc1['car-type'] == '5'\n",
    "type_6 = mc1['car-type'] == '6'\n",
    "type_7 = mc1['car-type'] == '2P'"
   ]
  },
  {
   "cell_type": "code",
   "execution_count": null,
   "id": "428ab0b4",
   "metadata": {},
   "outputs": [],
   "source": [
    "type_1 = mc1[type_1] \n",
    "type_2 = mc1[type_2] \n",
    "type_3 = mc1[type_3] \n",
    "type_4 = mc1[type_4] \n",
    "type_5 = mc1[type_5] \n",
    "type_6 = mc1[type_6] \n",
    "type_7 = mc1[type_7] "
   ]
  },
  {
   "cell_type": "code",
   "execution_count": null,
   "id": "c7b1f7c1",
   "metadata": {},
   "outputs": [],
   "source": [
    "options = mc1[['gate-name', 'car-type', 'month', 'hour']]"
   ]
  },
  {
   "cell_type": "code",
   "execution_count": null,
   "id": "85f9d359",
   "metadata": {},
   "outputs": [],
   "source": [
    "listing = options.columns\n",
    "listing"
   ]
  },
  {
   "cell_type": "markdown",
   "id": "1efddf63",
   "metadata": {},
   "source": [
    "# Data Embedding\n",
    "## T-SNE Clustering\n",
    "\n",
    "One approach uses T-SNE to detect similarity among the patterns shown by the cars and the gates they go through, however, the approach did one extra set of preprocessing to lablel those patterns. \n",
    "In this case similarities among car and the gates they go through in general (without labeling them) has been done and plotted to see what it can achieve. "
   ]
  },
  {
   "cell_type": "code",
   "execution_count": null,
   "id": "ad45e7e1",
   "metadata": {},
   "outputs": [],
   "source": [
    "tsne = TSNE(n_components=2, random_state=42)\n",
    "X_reduced = tsne.fit_transform(mc1[['car-idx','gate-idx']])\n",
    "X_reduced"
   ]
  },
  {
   "cell_type": "code",
   "execution_count": null,
   "id": "3d54e332",
   "metadata": {
    "scrolled": false
   },
   "outputs": [],
   "source": [
    "fig02 = px.scatter(X_reduced, x=X_reduced[:, 0], y=X_reduced[:, 1], color=mc1['gate-idx'], title='T-SNE clustering types of gates')\n",
    "fig02.update_layout(showlegend=False)\n",
    "fig02.update_xaxes(visible=False)\n",
    "fig02.update_yaxes(visible=False)\n",
    "fig02.show()"
   ]
  },
  {
   "cell_type": "code",
   "execution_count": null,
   "id": "03c55532",
   "metadata": {
    "scrolled": false
   },
   "outputs": [],
   "source": [
    "fig03 = px.scatter(X_reduced, x=X_reduced[:, 0], y=X_reduced[:, 1], color=mc1['car-idx'],  title='T-SNE clustering types of cars')\n",
    "fig03.update_layout(showlegend=False)\n",
    "fig03.update_xaxes(visible=False)\n",
    "fig03.update_yaxes(visible=False)\n",
    "fig03.show()"
   ]
  },
  {
   "cell_type": "markdown",
   "id": "b7ebaf18",
   "metadata": {},
   "source": [
    "## Heatmap\n"
   ]
  },
  {
   "cell_type": "code",
   "execution_count": null,
   "id": "a7fb9fb6",
   "metadata": {},
   "outputs": [],
   "source": [
    "fig04 = px.density_heatmap(mc1, x=\"car-type\", y=\"hour\")\n",
    "fig04.show()"
   ]
  },
  {
   "cell_type": "markdown",
   "id": "6f39a768",
   "metadata": {},
   "source": [
    "## Supporting time series interactive scatter plots"
   ]
  },
  {
   "cell_type": "code",
   "execution_count": null,
   "id": "05049f2f",
   "metadata": {},
   "outputs": [],
   "source": [
    "sorting = mc1[['car-id-idxx', 'gate-name', 'datetime']]\n",
    "gates = mc1.groupby(['car-id-idxx', 'gate-name']).size().reset_index(name='count')#.sort_values(['count'],ascending=True)\n",
    "\n"
   ]
  },
  {
   "cell_type": "code",
   "execution_count": null,
   "id": "019eeff1",
   "metadata": {},
   "outputs": [],
   "source": [
    "sorting = mc1[['car-id-idxx', 'gate-name', 'datetime', 'day', 'month', 'hour']]\n",
    "gates = sorting.groupby(['car-id-idxx', 'gate-name', 'day']).sum()\n",
    "gates.iloc[0:10]\n",
    "     "
   ]
  },
  {
   "cell_type": "code",
   "execution_count": null,
   "id": "d9141829",
   "metadata": {
    "scrolled": false
   },
   "outputs": [],
   "source": [
    "def scatter1(car_type_1, car_type_2 ,car_type_3,car_type_4,car_type_5,car_type_6,car_type_7):\n",
    "    #print('Scatter showing by vehicle type, what gates it has gone through by time')\n",
    "    fig_timelapse01 = px.scatter(type_1[(type_1['car-id-idxx'] == car_type_1) ], x='datetime', y='gate-name', color='gate-name',\n",
    "                                 title= 'Gates registeres by time per car corresponding to type 1')\n",
    "    fig_timelapse01.show()\n",
    "    \n",
    "    fig_timelapse02 = px.scatter(type_2[(type_2['car-id-idxx'] == car_type_2) ], x='datetime', y='gate-name', color='gate-name',\n",
    "                                    title= 'Gates registeres by time per car corresponding to type 2')\n",
    "    fig_timelapse02.show()\n",
    "    fig_timelapse03 = px.scatter(type_3[(type_3['car-id-idxx'] == car_type_3) ], x='datetime', y='gate-name', color='gate-name',\n",
    "                                 title= 'Gates registeres by time per car corresponding to type 3')\n",
    "    fig_timelapse03.show()\n",
    "    fig_timelapse04 = px.scatter(type_4[(type_4['car-id-idxx'] == car_type_4) ], x='datetime', y='gate-name', color='gate-name',\n",
    "                                 title= 'Gates registeres by time per car corresponding to type 4')\n",
    "    fig_timelapse04.show()\n",
    "    fig_timelapse05 = px.scatter(type_5[(type_5['car-id-idxx'] == car_type_5) ], x='datetime', y='gate-name', color='gate-name',\n",
    "                                 title= 'Gates registeres by time per car corresponding to type 5')\n",
    "    fig_timelapse05.show()\n",
    "    fig_timelapse06 = px.scatter(type_6[(type_6['car-id-idxx'] == car_type_6) ], x='datetime', y='gate-name', color='gate-name',\n",
    "                                title= 'Gates registeres by time per car corresponding to type 6')\n",
    "    fig_timelapse06.show()\n",
    "    fig_timelapse07 = px.scatter(type_7[(type_7['car-id-idxx'] == car_type_7) ], x='datetime', y='gate-name', color='gate-name',\n",
    "                                title= 'Gates registeres by time per car corresponding to type 7')\n",
    "    fig_timelapse07.show()\n",
    "select_type_1 = widgets.interact(scatter1, car_type_1=type_1['car-id-idxx'].unique(),\n",
    "                                 car_type_2 = type_2['car-id-idxx'].unique() ,\n",
    "                                 car_type_3 = type_3['car-id-idxx'].unique() ,\n",
    "                                 car_type_4 = type_4['car-id-idxx'].unique() ,\n",
    "                                 car_type_5 = type_5['car-id-idxx'].unique() ,\n",
    "                                 car_type_6  =type_6['car-id-idxx'].unique() ,\n",
    "                                 car_type_7 = type_7['car-id-idxx'].unique() )\n"
   ]
  },
  {
   "cell_type": "markdown",
   "id": "213b490b",
   "metadata": {},
   "source": [
    "# Dashboard"
   ]
  },
  {
   "cell_type": "code",
   "execution_count": null,
   "id": "a5c6d4ca",
   "metadata": {},
   "outputs": [],
   "source": [
    "import dash\n",
    "from jupyter_dash import JupyterDash\n",
    "from dash import dcc\n",
    "from dash import html\n",
    "import plotly.express as px\n",
    "import pandas as pd\n",
    "import dash_bootstrap_components as dbc\n",
    "from dash.dependencies import Input, Output"
   ]
  },
  {
   "cell_type": "code",
   "execution_count": null,
   "id": "ab3cdf4d",
   "metadata": {},
   "outputs": [],
   "source": [
    "option = [type_1, type_2 ,type_3,type_4,type_5,type_6,type_7]\n",
    "option_ = [1 ,2 ,3,4 ,5 ,6, 7]"
   ]
  },
  {
   "cell_type": "code",
   "execution_count": null,
   "id": "2961687c",
   "metadata": {},
   "outputs": [],
   "source": [
    "types_15 = df2015['car-type'].unique()\n",
    "types_16 = df2016['car-type'].unique()"
   ]
  },
  {
   "cell_type": "code",
   "execution_count": null,
   "id": "431fcb32",
   "metadata": {},
   "outputs": [],
   "source": [
    "app = dash.Dash(__name__, external_stylesheets=[dbc.themes.LUX])\n",
    "server = app.server\n",
    "\n",
    "app.layout = html.Div(children=[\n",
    "\n",
    "    html.Div(children=[\n",
    "        html.Br(),\n",
    "        html.H2(children='Patterns of Life'),  \n",
    "        html.Br(),\n",
    "        html.P(children = 'Dashboard Components: The following dashboard present a graphical visualisations of traffic data to understand the patterns of life in the Boonsong Lekagul Nature Preserve.')\n",
    "          ],style={'textAlign': 'center'}),\n",
    "    \n",
    "    html.Div(children=[\n",
    "        dbc.Row([\n",
    "            dbc.Col(html.Div(children=[\n",
    "                html.H4(children='Scatter plot showing gates recroded by vehicles in the year 2015. Please select vehicle type:'),         \n",
    "                html.Div(children=[\n",
    "                    dcc.Dropdown(id='hist',\n",
    "                        options=[{\"label\": i, \"value\": i} for i in options.columns] ,\n",
    "                            value='gate-name', \n",
    "                                ),\n",
    "                         html.Div(id='graph1')\n",
    "                       ]), \n",
    "             ],style={'textAlign': 'center'})),\n",
    "             html.Br(),\n",
    "            dbc.Col(html.Div(children=[\n",
    "                dbc.Col(html.Div(children=[\n",
    "                    html.H4(children='Lekagul Roadways labeled'),  \n",
    "                    html.Br(),\n",
    "                     # html.Iframe(id='map',\n",
    "                     #       srcDoc=open('datasets/MC1Data/Lekagul Roadways labeled v2.jpg', 'r').read(),\n",
    "                     #       width='95%', height='600'),\n",
    "                    html.Img(src=app.get_asset_url('Lekagul Roadways labeled v2.jpg'), width='80%', height ='590'),\n",
    "                    \n",
    "                    #html.Img(src='Lekagul Roadways labeled v2.jpg',\n",
    "                    # width='80%', height='300'),\n",
    "                 ])),\n",
    "            ])),\n",
    "            html.Br(),\n",
    "        ]),\n",
    "        dbc.Row([\n",
    "            dbc.Col(html.Div(children=[\n",
    "                html.H4(children='Histogram used to represent gate frequency recorded per day by car type for the year 2015'),         \n",
    "                html.Div(children=[\n",
    "                    dcc.Dropdown(id='hist15',\n",
    "                        options=[{\"label\": i, \"value\": i} for i in types_15] ,\n",
    "                            value='gate-name', \n",
    "                                ),\n",
    "                         html.Div(id='graph15')\n",
    "                       ]), \n",
    "             ],style={'textAlign': 'center'})),\n",
    "            dbc.Col(html.Div(children=[\n",
    "                html.H4(children='Histogram used to represent frequency recorded per day by car type for the year 2016'),         \n",
    "                html.Div(children=[\n",
    "                    dcc.Dropdown(id='hist16',\n",
    "                        options=[{\"label\": l, \"value\": l} for l in types_16] ,\n",
    "                            value='gate-name', \n",
    "                                ),\n",
    "                         html.Div(id='graph16')\n",
    "                       ]), \n",
    "             ],style={'textAlign': 'center'})),\n",
    "        ]),\n",
    "        \n",
    "        \n",
    "        dbc.Row([\n",
    "                html.Br(),\n",
    "                html.H4(children='T-SNE to check for similarities'),                         \n",
    "                html.Br(),\n",
    "                dbc.Col(html.Div(children=[\n",
    "                    dcc.Graph( \n",
    "                        id='tsne1',\n",
    "                        figure=fig02),\n",
    "                ])),\n",
    "            \n",
    "                dbc.Col(html.Div(children=[\n",
    "                    dcc.Graph( \n",
    "                        id='tsne2',\n",
    "                        figure=fig03),\n",
    "                ])),\n",
    "        ],style={'textAlign': 'center'}),\n",
    "        dbc.Row([\n",
    "            html.H3(children='Color interpretation for T-SNE'),\n",
    "            dbc.Col(html.Div(children=[\n",
    "                html.H3(children='Gate-types'),\n",
    "                   html.P(children='0. camping0'),\n",
    "                   html.P(children='1. camping1'),\n",
    "                   html.P(children='2. camping2'),\n",
    "                   html.P(children='3. camping3'),\n",
    "                   html.P(children='4. camping4 '),\n",
    "                   html.P(children='5. camping5'),\n",
    "                   html.P(children='6. camping6'),\n",
    "                   html.P(children='7. camping7'),\n",
    "                   html.P(children='8. camping8'),\n",
    "                   html.P(children='9. entrance0'),\n",
    "                   html.P(children='10. entrance1'),\n",
    "                ]), align=\"start\"),\n",
    "             dbc.Col(html.Div(children=[\n",
    "                 html.Br(),\n",
    "                html.H3(children='Gate-types'),\n",
    "                   html.P(children='11. entrance2'),\n",
    "                   html.P(children='12. entrance3'),\n",
    "                   html.P(children='13. entrance4'),\n",
    "                   html.P(children='14. gate0'),\n",
    "                   html.P(children='15. gate1'),\n",
    "                   html.P(children='16. gate2'),\n",
    "                   html.P(children='17. gate3'),\n",
    "                   html.P(children='18. gate4'),\n",
    "                   html.P(children='19. gate5'),\n",
    "                   html.P(children='20. gate6'),\n",
    "                ]), align=\"start\"),\n",
    "            dbc.Col(html.Div(children=[ \n",
    "                html.Br(),\n",
    "                html.H3(children='Gate-types'),\n",
    "                   html.P(children='21. gate7'),\n",
    "                   html.P(children='22. gate8'),\n",
    "                   html.P(children='23. general-gate0'),\n",
    "                   html.P(children='24. general-gate1'),\n",
    "                   html.P(children='25. general-gate2'),\n",
    "                   html.P(children='26. general-gate3'),\n",
    "                   html.P(children='27. general-gate4'),\n",
    "                   html.P(children='28. general-gate5'),\n",
    "                   html.P(children='29. general-gate6'),\n",
    "                   html.P(children='30. general-gate7'),\n",
    "                ]), align=\"start\"),\n",
    "                \n",
    "            dbc.Col(html.Div(children=[   \n",
    "                html.Br(),  \n",
    "                html.H3(children='Gate-types'),\n",
    "                html.P(children='31. ranger-base'),\n",
    "                   html.P(children='32. ranger-stop0'),\n",
    "                   html.P(children='33. ranger-stop1'),\n",
    "                   html.P(children='34. ranger-stop2'),\n",
    "                   html.P(children='35. ranger-stop3'),\n",
    "                   html.P(children='36. ranger-stop4'),\n",
    "                   html.P(children='37. ranger-stop5'),\n",
    "                   html.P(children='38. ranger-stop6'),\n",
    "                   html.P(children='39. ranger-stop7'),\n",
    "               ]), align=\"start\"),\n",
    "            \n",
    "                dbc.Col(html.Div(children=[\n",
    "                   html.Br(),\n",
    "                   html.H4(children='Car Types: '),\n",
    "                   html.P(children='0. type 1 = 2 axle car'),\n",
    "                   html.P(children='1. type 2 = 2 axle truck'),\n",
    "                   html.P(children='2. type 3 = 3 axle truck'),\n",
    "                   html.P(children='3. type 2P = 2 axle park vechicles (trucks )'),\n",
    "                   html.P(children='4. type 4 = 4 axle (and above) truck '),\n",
    "                   html.P(children='5. type 5 = 2 axle bus'),\n",
    "                   html.P(children='6. type 6 = 3 axle bus'),\n",
    "               ]), align=\"start\"),            \n",
    "          ]),  \n",
    "            \n",
    "            \n",
    "        dbc.Row([\n",
    "            dbc.Col(html.Div(children=[\n",
    "            html.H4(children='Scatter plot showing gates recroded by vehicles in the year 2015. Please select vehicle type:'),         \n",
    "            html.Div(children=[\n",
    "            dcc.Dropdown(id='sctter_2015',\n",
    "                        options=[{\"label\": j, \"value\": j} for j in types_15],      \n",
    "                         value='4', \n",
    "                        ),       \n",
    "                html.Div(id='scatter_time_15')              \n",
    "                ],style={'textAlign': 'center'}),      \n",
    "             ])),\n",
    "\n",
    "            dbc.Col(html.Div(children=[\n",
    "            html.H4(children='Scatter plot showing gates recroded by vehicles in the year 2016. Please select vehicle type:'),         \n",
    "            html.Div(children=[\n",
    "            dcc.Dropdown(id='sctter_2016',\n",
    "                        options=[{\"label\": k, \"value\": k} for k in types_16],      \n",
    "                         value='4', \n",
    "                        ),       \n",
    "                html.Div(id='scatter_time_16')              \n",
    "                ],style={'textAlign': 'center'}),      \n",
    "             ])),\n",
    "            ]),\n",
    "          \n",
    "        \n",
    "    ],style={'textAlign': 'center'}),\n",
    "])\n",
    "@app.callback(Output('scatter_time_15','children'),\n",
    "             Input('sctter_2015', 'value'))\n",
    "\n",
    "def scatter_15(type_):\n",
    "    timelapse_15 = px.scatter(df2015[df2015['car-type'] == type_], x='datetime', y='car-id-idxx', color='gate-name')\n",
    "    return  html.Div([\n",
    "            dcc.Graph( \n",
    "                id='2015',\n",
    "                figure=timelapse_15)])\n",
    "                  \n",
    "def update_2015(num_):\n",
    "    return update.scatter_15(type_=num_)\n",
    "        \n",
    "@app.callback(Output('scatter_time_16','children'),\n",
    "             Input('sctter_2016', 'value'))\n",
    "\n",
    "def scatter_16(type_1):\n",
    "    timelapse_16 = px.scatter(df2016[df2016['car-type'] == type_1], x='datetime', y='car-id-idxx', color='gate-name')\n",
    "    return  html.Div([\n",
    "            dcc.Graph( \n",
    "                id='2016',\n",
    "                figure=timelapse_16)])\n",
    "                  \n",
    "def update_2016(num):\n",
    "    return update.scatter_16(type_1=num)\n",
    "        \n",
    "\n",
    "@app.callback(Output('graph1','children'),\n",
    "             Input('hist', 'value'))\n",
    "\n",
    "def histogram_(i): \n",
    "    fig1 = px.histogram(options, x=options[i], color_discrete_sequence=['black'])\n",
    "    return  html.Div([\n",
    "            dcc.Graph( \n",
    "                id='counting',\n",
    "                figure=fig1)\n",
    "        ])\n",
    "def update_hist(count):\n",
    "    return update.histogram_(i=count)\n",
    "\n",
    "@app.callback(Output('graph15','children'),\n",
    "             Input('hist15', 'value'))\n",
    "\n",
    "def histogram_15(i): \n",
    "    fig10 = px.histogram(df2015[df2015['car-type'] == i], x='day', color='gate-name')\n",
    "    return  html.Div([\n",
    "            dcc.Graph( \n",
    "                id='counting',\n",
    "                figure=fig10)\n",
    "        ])\n",
    "def update_hist15(cc):\n",
    "    return update.histogram_15(i=cc)\n",
    "\n",
    "@app.callback(Output('graph16','children'),\n",
    "             Input('hist16', 'value'))\n",
    "\n",
    "def histogram_16(ii): \n",
    "    fig10 = px.histogram(df2016[df2016['car-type'] == ii], x='day', color='gate-name')\n",
    "    return  html.Div([\n",
    "            dcc.Graph( \n",
    "                id='counting',\n",
    "                figure=fig10)\n",
    "        ])\n",
    "def update_hist16(ccc):\n",
    "    return update.histogram_16(ii=ccc)\n",
    "\n",
    "\n",
    "app.run_server(debug=True, use_reloader=False)"
   ]
  },
  {
   "cell_type": "code",
   "execution_count": null,
   "id": "ec31de33",
   "metadata": {},
   "outputs": [],
   "source": []
  },
  {
   "cell_type": "code",
   "execution_count": null,
   "id": "ac688a79",
   "metadata": {},
   "outputs": [],
   "source": []
  }
 ],
 "metadata": {
  "kernelspec": {
   "display_name": "Python 3 (ipykernel)",
   "language": "python",
   "name": "python3"
  },
  "language_info": {
   "codemirror_mode": {
    "name": "ipython",
    "version": 3
   },
   "file_extension": ".py",
   "mimetype": "text/x-python",
   "name": "python",
   "nbconvert_exporter": "python",
   "pygments_lexer": "ipython3",
   "version": "3.9.7"
  }
 },
 "nbformat": 4,
 "nbformat_minor": 5
}
