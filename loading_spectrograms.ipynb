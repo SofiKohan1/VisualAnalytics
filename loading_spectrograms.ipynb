{
 "cells": [
  {
   "cell_type": "code",
   "execution_count": 11,
   "id": "65117043",
   "metadata": {},
   "outputs": [],
   "source": [
    "import ipywidgets as widgets\n",
    "import os\n",
    "import glob\n",
    "import spectrograms \n",
    "from spectrograms import spectograms"
   ]
  },
  {
   "cell_type": "markdown",
   "id": "8d7d3aea",
   "metadata": {},
   "source": [
    "# Reading audio files"
   ]
  },
  {
   "cell_type": "markdown",
   "id": "fbeb12db",
   "metadata": {},
   "source": [
    "### Reading files of known bird species"
   ]
  },
  {
   "cell_type": "code",
   "execution_count": 2,
   "id": "182a3838",
   "metadata": {},
   "outputs": [
    {
     "name": "stdout",
     "output_type": "stream",
     "text": [
      "No. of .wav files in bird species audio folder =  10\n"
     ]
    }
   ],
   "source": [
    "audio_fpath = \"datasets/birds_selection/\"\n",
    "audio_clips = os.listdir(audio_fpath)\n",
    "full_audio_clips = sorted(glob.glob(r'datasets/birds_selection/*.mp3'))\n",
    "print(\"No. of .wav files in bird species audio folder = \",len(audio_clips))"
   ]
  },
  {
   "cell_type": "markdown",
   "id": "aec0f3e3",
   "metadata": {},
   "source": [
    "### Reading files of known bird species "
   ]
  },
  {
   "cell_type": "code",
   "execution_count": 3,
   "id": "7d92226e",
   "metadata": {},
   "outputs": [
    {
     "name": "stdout",
     "output_type": "stream",
     "text": [
      "No. of .wav files in test audio folder =  11\n"
     ]
    }
   ],
   "source": [
    "audio_fpath_kasios = \"datasets/Test Birds from Kasios/\"\n",
    "audio_clips_kasios = os.listdir(audio_fpath_kasios)\n",
    "full_audio_clips_kasios = sorted(glob.glob(r'datasets/Test Birds from Kasios/*.mp3'))\n",
    "print(\"No. of .wav files in test audio folder = \",len(audio_clips_kasios))"
   ]
  },
  {
   "cell_type": "markdown",
   "id": "e6a23b04",
   "metadata": {},
   "source": [
    "### Setting up parameters for the spectrograms"
   ]
  },
  {
   "cell_type": "code",
   "execution_count": 4,
   "id": "63584f41",
   "metadata": {},
   "outputs": [],
   "source": [
    "#NFFT must always be greater than noverla \n",
    "NFFT = 4112\n",
    "#noverlap is usually NFFT/2\n",
    "noverlap = 2056"
   ]
  },
  {
   "cell_type": "markdown",
   "id": "20f3ab51",
   "metadata": {},
   "source": [
    "### Loading spectrograms"
   ]
  },
  {
   "cell_type": "code",
   "execution_count": 18,
   "id": "2c3456e9",
   "metadata": {},
   "outputs": [
    {
     "data": {
      "application/vnd.jupyter.widget-view+json": {
       "model_id": "b0899e4b538044d18fc700590868dcea",
       "version_major": 2,
       "version_minor": 0
      },
      "text/plain": [
       "interactive(children=(Dropdown(description='bird_species', options=('datasets/birds_selection/Bent-Beak-Riffra…"
      ]
     },
     "metadata": {},
     "output_type": "display_data"
    }
   ],
   "source": [
    "specs_birds = widgets.interact(spectograms, bird_species=full_audio_clips, test_audios=full_audio_clips_kasios,\n",
    "                                  NFFT=NFFT , noverlap=noverlap )"
   ]
  },
  {
   "cell_type": "code",
   "execution_count": null,
   "id": "5e07a6df",
   "metadata": {},
   "outputs": [],
   "source": []
  },
  {
   "cell_type": "code",
   "execution_count": null,
   "id": "37c3c566",
   "metadata": {},
   "outputs": [],
   "source": []
  },
  {
   "cell_type": "code",
   "execution_count": null,
   "id": "f8691dd9",
   "metadata": {},
   "outputs": [],
   "source": []
  },
  {
   "cell_type": "code",
   "execution_count": null,
   "id": "47ee4bad",
   "metadata": {},
   "outputs": [],
   "source": []
  },
  {
   "cell_type": "code",
   "execution_count": null,
   "id": "d17a25b7",
   "metadata": {},
   "outputs": [],
   "source": []
  }
 ],
 "metadata": {
  "kernelspec": {
   "display_name": "Python 3 (ipykernel)",
   "language": "python",
   "name": "python3"
  },
  "language_info": {
   "codemirror_mode": {
    "name": "ipython",
    "version": 3
   },
   "file_extension": ".py",
   "mimetype": "text/x-python",
   "name": "python",
   "nbconvert_exporter": "python",
   "pygments_lexer": "ipython3",
   "version": "3.9.7"
  }
 },
 "nbformat": 4,
 "nbformat_minor": 5
}
